{
 "cells": [
  {
   "cell_type": "code",
   "execution_count": 1,
   "id": "edef7df3",
   "metadata": {},
   "outputs": [
    {
     "name": "stderr",
     "output_type": "stream",
     "text": [
      "OMP: Info #276: omp_set_nested routine deprecated, please use omp_set_max_active_levels instead.\n"
     ]
    }
   ],
   "source": [
    "import os,csv,re\n",
    "import pandas as pd\n",
    "import numpy as np\n",
    "import scanpy as sc\n",
    "import math\n",
    "import SpaGCN as spg\n",
    "from scipy.sparse import issparse\n",
    "import random, torch\n",
    "import warnings\n",
    "warnings.filterwarnings(\"ignore\")\n",
    "import matplotlib.colors as clr\n",
    "import matplotlib.pyplot as plt\n",
    "import SpaGCN as spg\n",
    "#In order to read in image data, we need to install some package. Here we recommend package \"opencv\"\n",
    "#inatll opencv in python\n",
    "#!pip3 install opencv-python\n",
    "import cv2"
   ]
  },
  {
   "cell_type": "code",
   "execution_count": 2,
   "id": "8d00e754",
   "metadata": {},
   "outputs": [
    {
     "data": {
      "text/plain": [
       "'1.2.7'"
      ]
     },
     "execution_count": 2,
     "metadata": {},
     "output_type": "execute_result"
    }
   ],
   "source": [
    "spg.__version__"
   ]
  },
  {
   "cell_type": "markdown",
   "id": "bd7e1459",
   "metadata": {},
   "source": [
    "# 1. Read in data"
   ]
  },
  {
   "cell_type": "code",
   "execution_count": 5,
   "id": "c1c7dde6",
   "metadata": {},
   "outputs": [],
   "source": [
    "\n",
    "#Read original data and save it to h5ad\n",
    "from scanpy import read_10x_h5\n",
    "adata = read_10x_h5(\"../tutorial/data/151510/expression_matrix.h5\")\n",
    "spatial=pd.read_csv(\"../tutorial/data/151510/positions.txt\",sep=\",\",header=None,na_filter=False,index_col=0) \n",
    "adata.obs[\"x1\"]=spatial[1]\n",
    "adata.obs[\"x2\"]=spatial[2]\n",
    "adata.obs[\"x3\"]=spatial[3]\n",
    "adata.obs[\"x4\"]=spatial[4]\n",
    "adata.obs[\"x5\"]=spatial[5]\n",
    "adata.obs[\"x_array\"]=adata.obs[\"x2\"]\n",
    "adata.obs[\"y_array\"]=adata.obs[\"x3\"]\n",
    "adata.obs[\"x_pixel\"]=adata.obs[\"x4\"]\n",
    "adata.obs[\"y_pixel\"]=adata.obs[\"x5\"]\n",
    "\n",
    "#Select captured samples\n",
    "adata=adata[adata.obs[\"x1\"]==1]\n",
    "adata.var_names=[i.upper() for i in list(adata.var_names)]\n",
    "adata.var[\"genename\"]=adata.var.index.astype(\"str\")\n",
    "adata.write_h5ad(\"../tutorial/data/151510/sample_data.h5ad\")\n",
    "\n",
    "#Read in gene expression and spatial location\n",
    "adata=sc.read(\"../tutorial/data/151510/sample_data.h5ad\")\n",
    "#Read in hitology image\n",
    "img=cv2.imread(\"../tutorial/data/151510/histology.png\")"
   ]
  },
  {
   "cell_type": "markdown",
   "id": "7291b7b3",
   "metadata": {},
   "source": [
    "# 2. Integrate gene expression and histology into a Graph"
   ]
  },
  {
   "cell_type": "code",
   "execution_count": 6,
   "id": "bac2cdbb",
   "metadata": {},
   "outputs": [
    {
     "data": {
      "text/plain": [
       "True"
      ]
     },
     "execution_count": 6,
     "metadata": {},
     "output_type": "execute_result"
    }
   ],
   "source": [
    "#Set coordinates\n",
    "x_array=adata.obs[\"x_array\"].tolist()\n",
    "y_array=adata.obs[\"y_array\"].tolist()\n",
    "x_pixel=adata.obs[\"x_pixel\"].tolist()\n",
    "y_pixel=adata.obs[\"y_pixel\"].tolist()\n",
    "\n",
    "#Test coordinates on the image\n",
    "img_new=img.copy()\n",
    "for i in range(len(x_pixel)):\n",
    "    x=x_pixel[i]\n",
    "    y=y_pixel[i]\n",
    "    img_new[int(x-20):int(x+20), int(y-20):int(y+20),:]=0\n",
    "\n",
    "cv2.imwrite('./sample_results/151510_map.jpg', img_new)"
   ]
  },
  {
   "cell_type": "code",
   "execution_count": 7,
   "id": "26dd94ce",
   "metadata": {},
   "outputs": [
    {
     "name": "stdout",
     "output_type": "stream",
     "text": [
      "Calculateing adj matrix using histology image...\n",
      "Var of c0,c1,c2 =  nan nan nan\n",
      "Var of x,y,z =  6511733.839876174 6135285.956270563 nan\n",
      "邻接矩阵已保存到: ./data/151510/adj.csv\n"
     ]
    }
   ],
   "source": [
    "#Calculate adjacent matrix\n",
    "s=1\n",
    "b=49\n",
    "adj=spg.calculate_adj_matrix(x=x_pixel,y=y_pixel, x_pixel=x_pixel, y_pixel=y_pixel, image=img, beta=b, alpha=s, histology=True)\n",
    "#If histlogy image is not available, SpaGCN can calculate the adjacent matrix using the fnction below\n",
    "#adj=calculate_adj_matrix(x=x_pixel,y=y_pixel, histology=False)\n",
    "\n",
    "# 定义文件路径\n",
    "file_path = './data/151510/adj.csv'\n",
    "\n",
    "# 检查目录是否存在，如果不存在则创建\n",
    "os.makedirs(os.path.dirname(file_path), exist_ok=True)\n",
    "\n",
    "# 保存文件\n",
    "np.savetxt(file_path, adj, delimiter=',')\n",
    "\n",
    "print(\"邻接矩阵已保存到:\", file_path)"
   ]
  },
  {
   "cell_type": "markdown",
   "id": "c76b8eb1",
   "metadata": {},
   "source": [
    "# 3. Spatial domain detection using SpaGCN"
   ]
  },
  {
   "cell_type": "code",
   "execution_count": null,
   "id": "783d3282",
   "metadata": {},
   "outputs": [],
   "source": [
    "adata=sc.read(\"../tutorial/data/151510/sample_data.h5ad\")\n",
    "adj=np.loadtxt('./data/151510/adj.csv', delimiter=',')\n",
    "adata.var_names_make_unique()\n",
    "spg.prefilter_genes(adata,min_cells=3) # avoiding all genes are zeros\n",
    "spg.prefilter_specialgenes(adata)\n",
    "#Normalize and take log for UMI\n",
    "sc.pp.normalize_per_cell(adata)\n",
    "sc.pp.log1p(adata)"
   ]
  },
  {
   "cell_type": "markdown",
   "id": "5e55f232",
   "metadata": {},
   "source": [
    "### Set hyper-parameters"
   ]
  },
  {
   "cell_type": "code",
   "execution_count": null,
   "id": "125df256",
   "metadata": {},
   "outputs": [],
   "source": [
    "p=0.5 \n",
    "#Find the l value given p\n",
    "l=spg.search_l(p, adj, start=0.01, end=1000, tol=0.01, max_run=100)"
   ]
  },
  {
   "cell_type": "code",
   "execution_count": 4,
   "id": "f3d46081",
   "metadata": {},
   "outputs": [
    {
     "ename": "NameError",
     "evalue": "name 'adata' is not defined",
     "output_type": "error",
     "traceback": [
      "\u001b[0;31m---------------------------------------------------------------------------\u001b[0m",
      "\u001b[0;31mNameError\u001b[0m                                 Traceback (most recent call last)",
      "Cell \u001b[0;32mIn[4], line 7\u001b[0m\n\u001b[1;32m      5\u001b[0m r_seed\u001b[38;5;241m=\u001b[39mt_seed\u001b[38;5;241m=\u001b[39mn_seed\u001b[38;5;241m=\u001b[39m\u001b[38;5;241m100\u001b[39m\n\u001b[1;32m      6\u001b[0m \u001b[38;5;66;03m#Seaech for suitable resolution\u001b[39;00m\n\u001b[0;32m----> 7\u001b[0m res\u001b[38;5;241m=\u001b[39mspg\u001b[38;5;241m.\u001b[39msearch_res(\u001b[43madata\u001b[49m, adj, l, n_clusters, start\u001b[38;5;241m=\u001b[39m\u001b[38;5;241m0.7\u001b[39m, step\u001b[38;5;241m=\u001b[39m\u001b[38;5;241m0.1\u001b[39m, tol\u001b[38;5;241m=\u001b[39m\u001b[38;5;241m5e-3\u001b[39m, lr\u001b[38;5;241m=\u001b[39m\u001b[38;5;241m0.05\u001b[39m, max_epochs\u001b[38;5;241m=\u001b[39m\u001b[38;5;241m20\u001b[39m, r_seed\u001b[38;5;241m=\u001b[39mr_seed, t_seed\u001b[38;5;241m=\u001b[39mt_seed, n_seed\u001b[38;5;241m=\u001b[39mn_seed)\n",
      "\u001b[0;31mNameError\u001b[0m: name 'adata' is not defined"
     ]
    }
   ],
   "source": [
    "#If the number of clusters known, we can use the spg.search_res() fnction to search for suitable resolution(optional)\n",
    "#For this toy data, we set the number of clusters=7 since this tissue has 7 layers\n",
    "n_clusters=7\n",
    "#Set seed\n",
    "r_seed=t_seed=n_seed=100\n",
    "#Seaech for suitable resolution\n",
    "res=spg.search_res(adata, adj, l, n_clusters, start=0.7, step=0.1, tol=5e-3, lr=0.05, max_epochs=20, r_seed=r_seed, t_seed=t_seed, n_seed=n_seed)"
   ]
  },
  {
   "cell_type": "markdown",
   "id": "014b15df",
   "metadata": {},
   "source": [
    "### Run SpaGCN"
   ]
  },
  {
   "cell_type": "code",
   "execution_count": null,
   "id": "dc6e0569",
   "metadata": {},
   "outputs": [],
   "source": [
    "# Initialize SpaGCN classifier\n",
    "clf = spg.SpaGCN()\n",
    "clf.set_l(l)\n",
    "\n",
    "# Set seeds for reproducibility\n",
    "random.seed(r_seed)\n",
    "torch.manual_seed(t_seed)\n",
    "np.random.seed(n_seed)\n",
    "print(\"Seeds set: random={}, torch={}, numpy={}\".format(r_seed, t_seed, n_seed))\n",
    "\n",
    "# Train the model\n",
    "print(\"Starting training...\")\n",
    "clf.train(adata, adj, init_spa=True, init=\"louvain\", res=res, tol=5e-3, lr=0.05, max_epochs=200)\n",
    "print(\"Training completed.\")\n",
    "\n",
    "# Predict clusters\n",
    "y_pred, prob = clf.predict()\n",
    "print(\"Prediction completed. Unique predictions:\", np.unique(y_pred))\n",
    "\n",
    "# Store predictions in adata\n",
    "adata.obs[\"pred\"] = y_pred\n",
    "adata.obs[\"pred\"] = adata.obs[\"pred\"].astype('category')\n",
    "print(\"Predictions stored in adata.obs['pred'].\")\n",
    "\n",
    "# Optional: Cluster refinement\n",
    "print(\"Starting cluster refinement...\")\n",
    "adj_2d = spg.calculate_adj_matrix(x=x_array, y=y_array, histology=False)\n",
    "print(\"2D adjacency matrix calculated.\")\n",
    "\n",
    "refined_pred = spg.refine(sample_id=adata.obs.index.tolist(), pred=adata.obs[\"pred\"].tolist(), dis=adj_2d, shape=\"hexagon\")\n",
    "print(\"Cluster refinement completed. Unique refined predictions:\", np.unique(refined_pred))\n",
    "\n",
    "# Store refined predictions in adata\n",
    "adata.obs[\"refined_pred\"] = refined_pred\n",
    "adata.obs[\"refined_pred\"] = adata.obs[\"refined_pred\"].astype('category')\n",
    "print(\"Refined predictions stored in adata.obs['refined_pred'].\")\n",
    "\n",
    "# Save results\n",
    "output_path = \"./151510/sample_results/results.h5ad\"\n",
    "print(\"Saving results to:\", output_path)\n",
    "adata.write_h5ad(output_path)\n",
    "print(\"Results saved successfully.\")"
   ]
  },
  {
   "cell_type": "code",
   "execution_count": null,
   "id": "0fefa319",
   "metadata": {},
   "outputs": [],
   "source": [
    "adata = sc.read_h5ad(\"./151510/sample_results/results.h5ad\")\n",
    "print(adata.obs.columns.tolist())"
   ]
  },
  {
   "cell_type": "code",
   "execution_count": null,
   "id": "81aff45d",
   "metadata": {},
   "outputs": [],
   "source": [
    "adata.obsm[\"spatial\"] = adata.obs[[\"x_array\", \"y_array\"]].values"
   ]
  },
  {
   "cell_type": "code",
   "execution_count": null,
   "id": "e698a7d8",
   "metadata": {},
   "outputs": [],
   "source": [
    "from spatial_metrics import compute_NMI, compute_HOM, compute_COM, compute_ASW, compute_CHAOS, compute_PAS\n",
    "\n",
    "refined_pred_key= \"refined_pred\"\n",
    "\n",
    "print(\"ASW:   \", compute_ASW(adata, refined_pred_key))\n",
    "print(\"CHAOS: \", compute_CHAOS(adata, refined_pred_key))\n",
    "print(\"PAS:   \", compute_PAS(adata, refined_pred_key))"
   ]
  },
  {
   "cell_type": "code",
   "execution_count": null,
   "id": "074ce826",
   "metadata": {},
   "outputs": [],
   "source": [
    "# ─── 11.1 评估：加载 ground‑truth → 对齐 → 计算 ARI／NMI ─────────────────────────\n",
    "\n",
    "from sklearn import metrics\n",
    "import pandas as pd\n",
    "\n",
    "# 1）设置路径与数据集标识\n",
    "file_fold = \"../tutorial/data/151510\"      # 你的 layer 注释 CSV 所在文件夹\n",
    "dataset   = \"151510\"\n",
    "\n",
    "print(\"Loading ground truth annotations...\")\n",
    "# 2）读取层注释 CSV（需包含“barcode”和“layer”两列）\n",
    "df_meta = pd.read_csv(f\"{file_fold}/{dataset}_layer_annotations.csv\")\n",
    "print(f\"Layer annotations shape: {df_meta.shape}\")\n",
    "print(f\"AnnData shape: {adata.shape}\")\n",
    "\n",
    "# 3）对齐 AnnData 和元数据\n",
    "meta_index  = df_meta['barcode'].tolist()\n",
    "adata_index = adata.obs.index.tolist()\n",
    "common_spots = set(meta_index) & set(adata_index)\n",
    "print(f\"Common spots between layer annotations and data: {len(common_spots)}\")\n",
    "\n",
    "# 4）如果索引不一致，先筛一下 AnnData\n",
    "if len(meta_index) != len(adata_index):\n",
    "    print(\"Filtering AnnData to match layer annotations...\")\n",
    "    adata = adata[adata.obs.index.isin(meta_index)].copy()\n",
    "    print(f\"After filtering, AnnData shape: {adata.shape}\")\n",
    "\n",
    "# 5）严格按照 barcodes 重新排序元数据\n",
    "df_meta = df_meta.set_index('barcode').loc[adata.obs.index]\n",
    "\n",
    "# 6）把真值写入 obs\n",
    "adata.obs['ground_truth'] = df_meta['layer'].values\n",
    "\n",
    "# 7）去除 NA\n",
    "adata = adata[~adata.obs['ground_truth'].isna()].copy()\n",
    "print(f\"After dropping NA, AnnData shape: {adata.shape}\")\n",
    "\n",
    "# 8）计算指标（这里把 'pred' 作为 domain 列，如果是其它名字请改成对应列）\n",
    "ARI = metrics.adjusted_rand_score(\n",
    "    adata.obs['pred'], adata.obs['ground_truth']\n",
    ")\n",
    "NMI = metrics.normalized_mutual_info_score(\n",
    "    adata.obs['pred'], adata.obs['ground_truth']\n",
    ")\n",
    "adata.uns['ARI'] = ARI\n",
    "adata.uns['NMI'] = NMI\n",
    "\n",
    "print('Dataset:', dataset)\n",
    "print('ARI:    ', ARI)\n",
    "print('NMI:    ', NMI)"
   ]
  },
  {
   "cell_type": "markdown",
   "id": "51ac00d4",
   "metadata": {},
   "source": [
    "===============分割线==============="
   ]
  },
  {
   "cell_type": "code",
   "execution_count": null,
   "id": "d19e2978",
   "metadata": {},
   "outputs": [],
   "source": [
    "import scanpy as sc\n",
    "import matplotlib.pyplot as plt\n",
    "\n",
    "# Read the data\n",
    "adata_path = \"../tutorial/sample_results/results.h5ad\"\n",
    "print(f\"Reading data from: {adata_path}\")\n",
    "adata = sc.read(adata_path)\n",
    "print(\"Data read successfully.\")\n",
    "print(f\"Number of cells: {adata.shape[0]}, Number of genes: {adata.shape[1]}\")\n",
    "\n",
    "# Set colors used\n",
    "plot_color = [\"#F56867\", \"#FEB915\", \"#C798EE\", \"#59BE86\", \"#7495D3\", \"#D1D1D1\", \"#6D1A9C\", \"#15821E\", \"#3A84E6\", \"#997273\", \"#787878\", \"#DB4C6C\", \"#9E7A7A\", \"#554236\", \"#AF5F3C\", \"#93796C\", \"#F9BD3F\", \"#DAB370\", \"#877F6C\", \"#268785\"]\n",
    "print(\"Color palette set.\")\n",
    "\n",
    "# Plot spatial domains\n",
    "domains = \"pred\"\n",
    "num_celltype = len(adata.obs[domains].unique())\n",
    "print(f\"Number of unique cell types in '{domains}': {num_celltype}\")\n",
    "adata.uns[domains + \"_colors\"] = list(plot_color[:num_celltype])\n",
    "print(f\"Colors assigned to '{domains}'.\")\n",
    "\n",
    "print(f\"Plotting spatial domains for '{domains}'...\")\n",
    "ax = sc.pl.scatter(adata, alpha=1, x=\"y_pixel\", y=\"x_pixel\", color=domains, title=domains, color_map=plot_color, show=False, size=100000 / adata.shape[0])\n",
    "ax.set_aspect('equal', 'box')\n",
    "ax.axes.invert_yaxis()\n",
    "output_path = \"./sample_results/pred.png\"\n",
    "print(f\"Saving plot to: {output_path}\")\n",
    "plt.savefig(output_path, dpi=600)\n",
    "plt.close()\n",
    "print(f\"Plot saved successfully for '{domains}'.\")\n",
    "\n",
    "# Plot refined spatial domains\n",
    "domains = \"refined_pred\"\n",
    "num_celltype = len(adata.obs[domains].unique())\n",
    "print(f\"Number of unique cell types in '{domains}': {num_celltype}\")\n",
    "adata.uns[domains + \"_colors\"] = list(plot_color[:num_celltype])\n",
    "print(f\"Colors assigned to '{domains}'.\")\n",
    "\n",
    "print(f\"Plotting refined spatial domains for '{domains}'...\")\n",
    "ax = sc.pl.scatter(adata, alpha=1, x=\"y_pixel\", y=\"x_pixel\", color=domains, title=domains, color_map=plot_color, show=False, size=100000 / adata.shape[0])\n",
    "ax.set_aspect('equal', 'box')\n",
    "ax.axes.invert_yaxis()\n",
    "output_path = \"./sample_results/refined_pred.png\"\n",
    "print(f\"Saving plot to: {output_path}\")\n",
    "plt.savefig(output_path, dpi=600)\n",
    "plt.close()\n",
    "print(f\"Plot saved successfully for '{domains}'.\")"
   ]
  },
  {
   "cell_type": "markdown",
   "id": "b55e8365",
   "metadata": {},
   "source": [
    "### Identify SVGs"
   ]
  },
  {
   "cell_type": "code",
   "execution_count": null,
   "id": "01ac6264",
   "metadata": {},
   "outputs": [],
   "source": [
    "#Read in raw data\n",
    "# raw=sc.read(\"../tutorial/data/151673/sample_data.h5ad\")\n",
    "raw=sc.read(\"../tutorial/data/151673/sample_data.h5ad\")\n",
    "raw.var_names_make_unique()\n",
    "raw.obs[\"pred\"]=adata.obs[\"pred\"].astype('category')\n",
    "raw.obs[\"x_array\"]=raw.obs[\"x2\"]\n",
    "raw.obs[\"y_array\"]=raw.obs[\"x3\"]\n",
    "raw.obs[\"x_pixel\"]=raw.obs[\"x4\"]\n",
    "raw.obs[\"y_pixel\"]=raw.obs[\"x5\"]\n",
    "#Convert sparse matrix to non-sparse\n",
    "raw.X=(raw.X.A if issparse(raw.X) else raw.X)\n",
    "raw.raw=raw\n",
    "sc.pp.log1p(raw)"
   ]
  },
  {
   "cell_type": "code",
   "execution_count": null,
   "id": "b501b41b",
   "metadata": {},
   "outputs": [],
   "source": [
    "#Use domain 0 as an example\n",
    "target=0\n",
    "#Set filtering criterials\n",
    "min_in_group_fraction=0.8\n",
    "min_in_out_group_ratio=1\n",
    "min_fold_change=1.5\n",
    "#Search radius such that each spot in the target domain has approximately 10 neighbors on average\n",
    "adj_2d=spg.calculate_adj_matrix(x=x_array, y=y_array, histology=False)\n",
    "start, end= np.quantile(adj_2d[adj_2d!=0],q=0.001), np.quantile(adj_2d[adj_2d!=0],q=0.1)\n",
    "r=spg.search_radius(target_cluster=target, cell_id=adata.obs.index.tolist(), x=x_array, y=y_array, pred=adata.obs[\"pred\"].tolist(), start=start, end=end, num_min=10, num_max=14,  max_run=100)\n",
    "#Detect neighboring domains\n",
    "nbr_domians=spg.find_neighbor_clusters(target_cluster=target,\n",
    "                                   cell_id=raw.obs.index.tolist(), \n",
    "                                   x=raw.obs[\"x_array\"].tolist(), \n",
    "                                   y=raw.obs[\"y_array\"].tolist(), \n",
    "                                   pred=raw.obs[\"pred\"].tolist(),\n",
    "                                   radius=r,\n",
    "                                   ratio=1/2)\n",
    "\n",
    "nbr_domians=nbr_domians[0:3]\n",
    "de_genes_info=spg.rank_genes_groups(input_adata=raw,\n",
    "                                target_cluster=target,\n",
    "                                nbr_list=nbr_domians, \n",
    "                                label_col=\"pred\", \n",
    "                                adj_nbr=True, \n",
    "                                log=True)\n",
    "#Filter genes\n",
    "de_genes_info=de_genes_info[(de_genes_info[\"pvals_adj\"]<0.05)]\n",
    "filtered_info=de_genes_info\n",
    "filtered_info=filtered_info[(filtered_info[\"pvals_adj\"]<0.05) &\n",
    "                            (filtered_info[\"in_out_group_ratio\"]>min_in_out_group_ratio) &\n",
    "                            (filtered_info[\"in_group_fraction\"]>min_in_group_fraction) &\n",
    "                            (filtered_info[\"fold_change\"]>min_fold_change)]\n",
    "filtered_info=filtered_info.sort_values(by=\"in_group_fraction\", ascending=False)\n",
    "filtered_info[\"target_dmain\"]=target\n",
    "filtered_info[\"neighbors\"]=str(nbr_domians)\n",
    "print(\"SVGs for domain \", str(target),\":\", filtered_info[\"genes\"].tolist())"
   ]
  },
  {
   "cell_type": "code",
   "execution_count": null,
   "id": "426fefa4",
   "metadata": {},
   "outputs": [],
   "source": [
    "filtered_info"
   ]
  },
  {
   "cell_type": "code",
   "execution_count": null,
   "id": "9cc90623",
   "metadata": {},
   "outputs": [],
   "source": [
    "#Plot refinedspatial domains\n",
    "color_self = clr.LinearSegmentedColormap.from_list('pink_green', ['#3AB370',\"#EAE7CC\",\"#FD1593\"], N=256)\n",
    "for g in filtered_info[\"genes\"].tolist():\n",
    "    raw.obs[\"exp\"]=raw.X[:,raw.var.index==g]\n",
    "    ax=sc.pl.scatter(raw,alpha=1,x=\"y_pixel\",y=\"x_pixel\",color=\"exp\",title=g,color_map=color_self,show=False,size=100000/raw.shape[0])\n",
    "    ax.set_aspect('equal', 'box')\n",
    "    ax.axes.invert_yaxis()\n",
    "    plt.savefig(\"./sample_results/\"+g+\".png\", dpi=600)\n",
    "    plt.close()"
   ]
  },
  {
   "cell_type": "markdown",
   "id": "959f38bc",
   "metadata": {},
   "source": [
    "### Identify Meta Gene"
   ]
  },
  {
   "cell_type": "code",
   "execution_count": null,
   "id": "39b28b01",
   "metadata": {},
   "outputs": [],
   "source": [
    "#Use domain 2 as an example\n",
    "target=2\n",
    "meta_name, meta_exp=spg.find_meta_gene(input_adata=raw,\n",
    "                    pred=raw.obs[\"pred\"].tolist(),\n",
    "                    target_domain=target,\n",
    "                    start_gene=\"GFAP\",\n",
    "                    mean_diff=0,\n",
    "                    early_stop=True,\n",
    "                    max_iter=3,\n",
    "                    use_raw=False)\n",
    "\n",
    "raw.obs[\"meta\"]=meta_exp"
   ]
  },
  {
   "cell_type": "code",
   "execution_count": null,
   "id": "6dc4d7a4",
   "metadata": {},
   "outputs": [],
   "source": [
    "#Plot meta gene\n",
    "g=\"GFAP\"\n",
    "raw.obs[\"exp\"]=raw.X[:,raw.var.index==g]\n",
    "ax=sc.pl.scatter(raw,alpha=1,x=\"y_pixel\",y=\"x_pixel\",color=\"exp\",title=g,color_map=color_self,show=False,size=100000/raw.shape[0])\n",
    "ax.set_aspect('equal', 'box')\n",
    "ax.axes.invert_yaxis()\n",
    "plt.savefig(\"./sample_results/\"+g+\".png\", dpi=600)\n",
    "plt.close()\n",
    "\n",
    "raw.obs[\"exp\"]=raw.obs[\"meta\"]\n",
    "ax=sc.pl.scatter(raw,alpha=1,x=\"y_pixel\",y=\"x_pixel\",color=\"exp\",title=meta_name,color_map=color_self,show=False,size=100000/raw.shape[0])\n",
    "ax.set_aspect('equal', 'box')\n",
    "ax.axes.invert_yaxis()\n",
    "plt.savefig(\"./sample_results/meta_gene.png\", dpi=600)\n",
    "plt.close()"
   ]
  },
  {
   "cell_type": "markdown",
   "id": "646b3982",
   "metadata": {},
   "source": [
    "### Multiple tissue sections analysis"
   ]
  },
  {
   "cell_type": "code",
   "execution_count": null,
   "id": "0a366bab",
   "metadata": {},
   "outputs": [],
   "source": [
    "adata1=sc.read(\"./tutorial/data/Mouse_brain/MA1.h5ad\")\n",
    "adata2=sc.read(\"../tutorial/data/Mouse_brain/MP1.h5ad\")\n",
    "img1=cv2.imread(\"../tutorial/data/Mouse_brain/MA1_histology.tif\")\n",
    "img2=cv2.imread(\"../tutorial/data/Mouse_brain/MP1_histology.tif\")"
   ]
  },
  {
   "cell_type": "code",
   "execution_count": null,
   "id": "11f30150",
   "metadata": {},
   "outputs": [],
   "source": []
  }
 ],
 "metadata": {
  "kernelspec": {
   "display_name": "Python (SpaGCN)",
   "language": "python",
   "name": "spagcn"
  },
  "language_info": {
   "codemirror_mode": {
    "name": "ipython",
    "version": 3
   },
   "file_extension": ".py",
   "mimetype": "text/x-python",
   "name": "python",
   "nbconvert_exporter": "python",
   "pygments_lexer": "ipython3",
   "version": "3.8.20"
  }
 },
 "nbformat": 4,
 "nbformat_minor": 5
}
